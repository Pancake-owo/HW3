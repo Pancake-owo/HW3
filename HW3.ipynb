{
 "cells": [
  {
   "cell_type": "code",
   "execution_count": 1,
   "id": "cf73d6cc-a614-4a9b-b325-5213f2b5f149",
   "metadata": {},
   "outputs": [
    {
     "name": "stdout",
     "output_type": "stream",
     "text": [
      "Original array: [33, 67, 8, 13, 54, 119, 3, 84, 25, 41]\n",
      "Partitioning with pivot 41 from index 0 to 9\n",
      "  Swapped 33 and 33: [33, 67, 8, 13, 54, 119, 3, 84, 25, 41]\n",
      "  Swapped 8 and 67: [33, 8, 67, 13, 54, 119, 3, 84, 25, 41]\n",
      "  Swapped 13 and 67: [33, 8, 13, 67, 54, 119, 3, 84, 25, 41]\n",
      "  Swapped 3 and 67: [33, 8, 13, 3, 54, 119, 67, 84, 25, 41]\n",
      "  Swapped 25 and 54: [33, 8, 13, 3, 25, 119, 67, 84, 54, 41]\n",
      "  Swapped pivot 41 to correct position: [33, 8, 13, 3, 25, 41, 67, 84, 54, 119]\n",
      "After partition: [33, 8, 13, 3, 25, 41, 67, 84, 54, 119]\n",
      "  Partitioning with pivot 25 from index 0 to 4\n",
      "    Swapped 8 and 33: [8, 33, 13, 3, 25, 41, 67, 84, 54, 119]\n",
      "    Swapped 13 and 33: [8, 13, 33, 3, 25, 41, 67, 84, 54, 119]\n",
      "    Swapped 3 and 33: [8, 13, 3, 33, 25, 41, 67, 84, 54, 119]\n",
      "    Swapped pivot 25 to correct position: [8, 13, 3, 25, 33, 41, 67, 84, 54, 119]\n",
      "  After partition: [8, 13, 3, 25, 33, 41, 67, 84, 54, 119]\n",
      "    Partitioning with pivot 3 from index 0 to 2\n",
      "      Swapped pivot 3 to correct position: [3, 13, 8, 25, 33, 41, 67, 84, 54, 119]\n",
      "    After partition: [3, 13, 8, 25, 33, 41, 67, 84, 54, 119]\n",
      "      Partitioning with pivot 8 from index 1 to 2\n",
      "        Swapped pivot 8 to correct position: [3, 8, 13, 25, 33, 41, 67, 84, 54, 119]\n",
      "      After partition: [3, 8, 13, 25, 33, 41, 67, 84, 54, 119]\n",
      "  Partitioning with pivot 119 from index 6 to 9\n",
      "    Swapped 67 and 67: [3, 8, 13, 25, 33, 41, 67, 84, 54, 119]\n",
      "    Swapped 84 and 84: [3, 8, 13, 25, 33, 41, 67, 84, 54, 119]\n",
      "    Swapped 54 and 54: [3, 8, 13, 25, 33, 41, 67, 84, 54, 119]\n",
      "    Swapped pivot 119 to correct position: [3, 8, 13, 25, 33, 41, 67, 84, 54, 119]\n",
      "  After partition: [3, 8, 13, 25, 33, 41, 67, 84, 54, 119]\n",
      "    Partitioning with pivot 54 from index 6 to 8\n",
      "      Swapped pivot 54 to correct position: [3, 8, 13, 25, 33, 41, 54, 84, 67, 119]\n",
      "    After partition: [3, 8, 13, 25, 33, 41, 54, 84, 67, 119]\n",
      "      Partitioning with pivot 67 from index 7 to 8\n",
      "        Swapped pivot 67 to correct position: [3, 8, 13, 25, 33, 41, 54, 67, 84, 119]\n",
      "      After partition: [3, 8, 13, 25, 33, 41, 54, 67, 84, 119]\n",
      "Sorted array: [3, 8, 13, 25, 33, 41, 54, 67, 84, 119]\n"
     ]
    }
   ],
   "source": [
    "def quick_sort(arr, low, high, depth=0):\n",
    "    indent = \"  \" * depth\n",
    "    if low < high:\n",
    "        pivot_index = partition(arr, low, high, depth)\n",
    "        print(f\"{indent}After partition: {arr}\")\n",
    "        quick_sort(arr, low, pivot_index - 1, depth + 1)\n",
    "        quick_sort(arr, pivot_index + 1, high, depth + 1)\n",
    "\n",
    "def partition(arr, low, high, depth):\n",
    "    indent = \"  \" * depth\n",
    "    pivot = arr[high]  # 選最後一個為pivot\n",
    "    i = low - 1\n",
    "\n",
    "    print(f\"{indent}Partitioning with pivot {pivot} from index {low} to {high}\")\n",
    "\n",
    "    for j in range(low, high):\n",
    "        if arr[j] <= pivot:\n",
    "            i += 1\n",
    "            arr[i], arr[j] = arr[j], arr[i]\n",
    "            print(f\"{indent}  Swapped {arr[i]} and {arr[j]}: {arr}\")\n",
    "\n",
    "    arr[i + 1], arr[high] = arr[high], arr[i + 1]\n",
    "    print(f\"{indent}  Swapped pivot {arr[i+1]} to correct position: {arr}\")\n",
    "    return i + 1\n",
    "\n",
    "# DEMO 資料\n",
    "demo_data = [33, 67, 8, 13, 54, 119, 3, 84, 25, 41]\n",
    "print(\"Original array:\", demo_data)\n",
    "quick_sort(demo_data, 0, len(demo_data) - 1)\n",
    "print(\"Sorted array:\", demo_data)"
   ]
  },
  {
   "cell_type": "code",
   "execution_count": null,
   "id": "57c78112-3369-432a-a3da-7e31e2e2a487",
   "metadata": {},
   "outputs": [],
   "source": []
  }
 ],
 "metadata": {
  "kernelspec": {
   "display_name": "Python [conda env:base] *",
   "language": "python",
   "name": "conda-base-py"
  },
  "language_info": {
   "codemirror_mode": {
    "name": "ipython",
    "version": 3
   },
   "file_extension": ".py",
   "mimetype": "text/x-python",
   "name": "python",
   "nbconvert_exporter": "python",
   "pygments_lexer": "ipython3",
   "version": "3.12.7"
  }
 },
 "nbformat": 4,
 "nbformat_minor": 5
}
